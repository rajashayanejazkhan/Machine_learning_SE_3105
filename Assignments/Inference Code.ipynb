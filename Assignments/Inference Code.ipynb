{
 "cells": [
  {
   "cell_type": "code",
   "execution_count": 1,
   "id": "aa3edc62",
   "metadata": {
    "_cell_guid": "b1076dfc-b9ad-4769-8c92-a6c4dae69d19",
    "_uuid": "8f2839f25d086af736a60e9eeb907d3b93b6e0e5",
    "execution": {
     "iopub.execute_input": "2025-02-27T05:39:50.100983Z",
     "iopub.status.busy": "2025-02-27T05:39:50.100604Z",
     "iopub.status.idle": "2025-02-27T05:39:51.005020Z",
     "shell.execute_reply": "2025-02-27T05:39:51.003760Z"
    },
    "papermill": {
     "duration": 0.909645,
     "end_time": "2025-02-27T05:39:51.006801",
     "exception": false,
     "start_time": "2025-02-27T05:39:50.097156",
     "status": "completed"
    },
    "tags": []
   },
   "outputs": [
    {
     "name": "stdout",
     "output_type": "stream",
     "text": [
      "/kaggle/input/equity-post-HCT-survival-predictions/sample_submission.csv\n",
      "/kaggle/input/equity-post-HCT-survival-predictions/data_dictionary.csv\n",
      "/kaggle/input/equity-post-HCT-survival-predictions/train.csv\n",
      "/kaggle/input/equity-post-HCT-survival-predictions/test.csv\n",
      "/kaggle/input/dataset2/ensemble_models.pkl\n"
     ]
    }
   ],
   "source": [
    "# This Python 3 environment comes with many helpful analytics libraries installed\n",
    "# It is defined by the kaggle/python Docker image: https://github.com/kaggle/docker-python\n",
    "# For example, here's several helpful packages to load\n",
    "\n",
    "import numpy as np # linear algebra\n",
    "import pandas as pd # data processing, CSV file I/O (e.g. pd.read_csv)\n",
    "\n",
    "# Input data files are available in the read-only \"../input/\" directory\n",
    "# For example, running this (by clicking run or pressing Shift+Enter) will list all files under the input directory\n",
    "\n",
    "import os\n",
    "for dirname, _, filenames in os.walk('/kaggle/input'):\n",
    "    for filename in filenames:\n",
    "        print(os.path.join(dirname, filename))\n",
    "\n",
    "# You can write up to 20GB to the current directory (/kaggle/working/) that gets preserved as output when you create a version using \"Save & Run All\" \n",
    "# You can also write temporary files to /kaggle/temp/, but they won't be saved outside of the current session"
   ]
  },
  {
   "cell_type": "code",
   "execution_count": 2,
   "id": "2859e5dc",
   "metadata": {
    "execution": {
     "iopub.execute_input": "2025-02-27T05:39:51.012197Z",
     "iopub.status.busy": "2025-02-27T05:39:51.011758Z",
     "iopub.status.idle": "2025-02-27T05:39:57.597932Z",
     "shell.execute_reply": "2025-02-27T05:39:57.596559Z"
    },
    "papermill": {
     "duration": 6.590506,
     "end_time": "2025-02-27T05:39:57.599674",
     "exception": false,
     "start_time": "2025-02-27T05:39:51.009168",
     "status": "completed"
    },
    "tags": []
   },
   "outputs": [
    {
     "name": "stdout",
     "output_type": "stream",
     "text": [
      "Inference complete! Submission file saved as submission.csv\n"
     ]
    }
   ],
   "source": [
    "import numpy as np\n",
    "import pandas as pd\n",
    "import joblib\n",
    "from lightgbm import LGBMRegressor\n",
    "from catboost import CatBoostRegressor\n",
    "\n",
    "# Load Test Data\n",
    "test = pd.read_csv(\"/kaggle/input/equity-post-HCT-survival-predictions/test.csv\")\n",
    "\n",
    "# Preprocess Test Data (Same as Training)\n",
    "def feature_engineering(df):\n",
    "    df['donor_age_diff'] = df['donor_age'] - df['age_at_hct']\n",
    "    df['score_interaction'] = df['comorbidity_score'] * df['karnofsky_score']\n",
    "    df['age_group'] = df['age_at_hct'] // 10\n",
    "    df['dri_score_NA'] = df['dri_score'].apply(lambda x: int('N/A' in str(x)))\n",
    "    return df\n",
    "\n",
    "test = feature_engineering(test)\n",
    "\n",
    "# Encode categorical features (Same as Training)\n",
    "for col in test.select_dtypes(include=['object', 'category']).columns:\n",
    "    test[col] = test[col].astype('category').cat.codes\n",
    "\n",
    "# Load Trained Models\n",
    "lgb_models, cat_models = joblib.load(\"/kaggle/input/dataset2/ensemble_models.pkl\")\n",
    "\n",
    "# Ensure Test Data Has the Same Features as Training\n",
    "train_features = set(lgb_models[0].feature_name_)  # Get feature names from trained LightGBM model\n",
    "test_features = set(test.columns)\n",
    "\n",
    "missing_in_test = train_features - test_features\n",
    "extra_in_test = test_features - train_features\n",
    "\n",
    "# Add missing columns with default values\n",
    "for col in missing_in_test:\n",
    "    if col == \"weight\":\n",
    "        test[col] = 1.0  # Default weight value\n",
    "    else:\n",
    "        test[col] = 0\n",
    "\n",
    "\n",
    "# Ensure column order matches training\n",
    "test = test[list(train_features)]\n",
    "\n",
    "# Make Predictions\n",
    "lgb_preds = np.mean([model.predict(test) for model in lgb_models], axis=0)\n",
    "cat_preds = np.mean([model.predict(test) for model in cat_models], axis=0)\n",
    "\n",
    "# Weighted Ensemble (60% LightGBM + 40% CatBoost)\n",
    "final_preds = 0.6 * lgb_preds + 0.4 * cat_preds\n",
    "\n",
    "# Save Submission File\n",
    "submission = pd.DataFrame({\n",
    "    \"ID\": test[\"ID\"],  # Ensure test dataset has 'ID' column\n",
    "    \"prediction\": final_preds\n",
    "})\n",
    "submission.to_csv(\"submission.csv\", index=False)\n",
    "\n",
    "print(\"Inference complete! Submission file saved as submission.csv\")"
   ]
  },
  {
   "cell_type": "code",
   "execution_count": null,
   "id": "1fd194ef",
   "metadata": {
    "papermill": {
     "duration": 0.001753,
     "end_time": "2025-02-27T05:39:57.603534",
     "exception": false,
     "start_time": "2025-02-27T05:39:57.601781",
     "status": "completed"
    },
    "tags": []
   },
   "outputs": [],
   "source": []
  }
 ],
 "metadata": {
  "kaggle": {
   "accelerator": "none",
   "dataSources": [
    {
     "databundleVersionId": 10381525,
     "isSourceIdPinned": false,
     "sourceId": 70942,
     "sourceType": "competition"
    },
    {
     "datasetId": 6747702,
     "sourceId": 10862065,
     "sourceType": "datasetVersion"
    }
   ],
   "dockerImageVersionId": 30918,
   "isGpuEnabled": false,
   "isInternetEnabled": false,
   "language": "python",
   "sourceType": "notebook"
  },
  "kernelspec": {
   "display_name": "Python 3",
   "language": "python",
   "name": "python3"
  },
  "language_info": {
   "codemirror_mode": {
    "name": "ipython",
    "version": 3
   },
   "file_extension": ".py",
   "mimetype": "text/x-python",
   "name": "python",
   "nbconvert_exporter": "python",
   "pygments_lexer": "ipython3",
   "version": "3.10.12"
  },
  "papermill": {
   "default_parameters": {},
   "duration": 11.387916,
   "end_time": "2025-02-27T05:39:58.527118",
   "environment_variables": {},
   "exception": null,
   "input_path": "__notebook__.ipynb",
   "output_path": "__notebook__.ipynb",
   "parameters": {},
   "start_time": "2025-02-27T05:39:47.139202",
   "version": "2.6.0"
  }
 },
 "nbformat": 4,
 "nbformat_minor": 5
}
