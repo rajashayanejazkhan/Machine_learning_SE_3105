{
 "cells": [
  {
   "cell_type": "code",
   "execution_count": 12,
   "metadata": {
    "id": "nf3lpSSwjN9y"
   },
   "outputs": [],
   "source": [
    "import numpy as np\n",
    "\n",
    "# Step function\n",
    "def step_function(x):\n",
    "    return 1 if x >= 0 else 0"
   ]
  },
  {
   "cell_type": "code",
   "execution_count": 14,
   "metadata": {},
   "outputs": [],
   "source": [
    "# Train the perceptron\n",
    "def train_perceptron(X, y, learning_rate=0.1, epochs=10):\n",
    "    num_features = X.shape[1]  # Number of features (now 3)\n",
    "    weights = np.zeros(num_features + 1)  # Include bias\n",
    "    \n",
    "    for epoch in range(epochs):\n",
    "        total_error = 0\n",
    "        for i in range(len(X)):\n",
    "            x_with_bias = np.insert(X[i], 0, 1)  # Add bias term\n",
    "            weighted_sum = np.dot(weights, x_with_bias)\n",
    "            y_pred = step_function(weighted_sum)\n",
    "            error = y[i] - y_pred\n",
    "            total_error += abs(error)\n",
    "            weights += learning_rate * error * x_with_bias\n",
    "        \n",
    "        print(f\"Epoch {epoch+1}: Weights = {weights}, Error = {total_error}\")\n",
    "        if total_error == 0:\n",
    "            break\n",
    "    \n",
    "    return weights"
   ]
  },
  {
   "cell_type": "code",
   "execution_count": 18,
   "metadata": {},
   "outputs": [],
   "source": [
    "# Predict outputs\n",
    "def predict(X, weights):\n",
    "    predictions = []\n",
    "    for i in range(len(X)):\n",
    "        x_with_bias = np.insert(X[i], 0, 1)\n",
    "        weighted_sum = np.dot(weights, x_with_bias)\n",
    "        y_pred = step_function(weighted_sum)\n",
    "        predictions.append(y_pred)\n",
    "    return predictions"
   ]
  },
  {
   "cell_type": "code",
   "execution_count": 20,
   "metadata": {},
   "outputs": [],
   "source": [
    "# 3-Input OR Gate dataset\n",
    "X = np.array([\n",
    "    [0, 0, 0],  # All 0s\n",
    "    [0, 0, 1],  # One 1\n",
    "    [0, 1, 0],\n",
    "    [0, 1, 1],\n",
    "    [1, 0, 0],\n",
    "    [1, 0, 1],\n",
    "    [1, 1, 0],\n",
    "    [1, 1, 1]   # All 1s\n",
    "])\n",
    "y = np.array([0, 1, 1, 1, 1, 1, 1, 1])  # Output: 0 only when all inputs are 0"
   ]
  },
  {
   "cell_type": "code",
   "execution_count": 22,
   "metadata": {},
   "outputs": [
    {
     "name": "stdout",
     "output_type": "stream",
     "text": [
      "Epoch 1: Weights = [0.  0.  0.  0.1], Error = 2\n",
      "Epoch 2: Weights = [0.  0.  0.1 0.1], Error = 2\n",
      "Epoch 3: Weights = [0.  0.1 0.1 0.1], Error = 2\n",
      "Epoch 4: Weights = [-0.1  0.1  0.1  0.1], Error = 1\n",
      "Epoch 5: Weights = [-0.1  0.1  0.1  0.1], Error = 0\n",
      "\n",
      "Results:\n",
      "Input: [0 0 0], Predicted: 0, Actual: 0\n",
      "Input: [0 0 1], Predicted: 1, Actual: 1\n",
      "Input: [0 1 0], Predicted: 1, Actual: 1\n",
      "Input: [0 1 1], Predicted: 1, Actual: 1\n",
      "Input: [1 0 0], Predicted: 1, Actual: 1\n",
      "Input: [1 0 1], Predicted: 1, Actual: 1\n",
      "Input: [1 1 0], Predicted: 1, Actual: 1\n",
      "Input: [1 1 1], Predicted: 1, Actual: 1\n"
     ]
    }
   ],
   "source": [
    "# Train the perceptron\n",
    "weights = train_perceptron(X, y)\n",
    "\n",
    "# Test predictions\n",
    "predictions = predict(X, weights)\n",
    "print(\"\\nResults:\")\n",
    "for i in range(len(X)):\n",
    "    print(f\"Input: {X[i]}, Predicted: {predictions[i]}, Actual: {y[i]}\")"
   ]
  },
  {
   "cell_type": "code",
   "execution_count": null,
   "metadata": {},
   "outputs": [],
   "source": []
  }
 ],
 "metadata": {
  "colab": {
   "provenance": []
  },
  "kernelspec": {
   "display_name": "Python 3 (ipykernel)",
   "language": "python",
   "name": "python3"
  },
  "language_info": {
   "codemirror_mode": {
    "name": "ipython",
    "version": 3
   },
   "file_extension": ".py",
   "mimetype": "text/x-python",
   "name": "python",
   "nbconvert_exporter": "python",
   "pygments_lexer": "ipython3",
   "version": "3.12.7"
  }
 },
 "nbformat": 4,
 "nbformat_minor": 4
}
